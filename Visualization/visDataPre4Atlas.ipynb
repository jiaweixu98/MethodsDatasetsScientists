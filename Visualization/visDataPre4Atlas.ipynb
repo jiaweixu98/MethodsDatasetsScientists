{
 "cells": [
  {
   "cell_type": "code",
   "execution_count": 1,
   "metadata": {},
   "outputs": [],
   "source": [
    "import numpy as np\n",
    "import pandas as pd\n",
    "from sklearn.cluster import KMeans\n",
    "from tqdm import tqdm\n",
    "import pickle as pk\n",
    "# data read\n",
    "author_emd = {}\n",
    "dataset_emd = {}\n",
    "method_emd = {}\n"
   ]
  },
  {
   "cell_type": "code",
   "execution_count": 28,
   "metadata": {},
   "outputs": [
    {
     "name": "stderr",
     "output_type": "stream",
     "text": [
      "522614it [00:17, 29355.96it/s]\n",
      "244it [00:00, 27117.39it/s]\n",
      "307it [00:00, 27913.53it/s]\n"
     ]
    }
   ],
   "source": [
    "fAuthor = open(\n",
    "    \"../../data/HetGNNdata/0423author_node_embedding.txt\", \"r\")\n",
    "for line in tqdm(fAuthor):\n",
    "    line = line.strip().split(' ')\n",
    "    temp_ebd = list(map(float, line[1:]))\n",
    "    author_emd[line[0]] = np.array(temp_ebd)\n",
    "fAuthor.close()\n",
    "\n",
    "fDataset = open(\n",
    "    \"../../data/HetGNNdata/0423dataset_node_embedding.txt\", \"r\")\n",
    "for line in tqdm(fDataset):\n",
    "    line = line.strip().split(' ')\n",
    "    temp_ebd = list(map(float, line[1:]))\n",
    "    dataset_emd[line[0]] = np.array(temp_ebd)\n",
    "fDataset.close()\n",
    "\n",
    "fMethod = open(\n",
    "    \"../../data/HetGNNdata/0423method_node_embedding.txt\", \"r\")\n",
    "for line in tqdm(fMethod):\n",
    "    line = line.strip().split(' ')\n",
    "    temp_ebd = list(map(float, line[1:]))\n",
    "    method_emd[line[0]] = np.array(temp_ebd)\n",
    "fMethod.close()\n"
   ]
  },
  {
   "cell_type": "code",
   "execution_count": 16,
   "metadata": {},
   "outputs": [],
   "source": [
    "authorBreastSet = set(author_emd.keys())\n",
    "dataBreastSet = set(dataset_emd.keys())\n",
    "methodBreastSet = set(method_emd.keys())"
   ]
  },
  {
   "cell_type": "code",
   "execution_count": 4,
   "metadata": {},
   "outputs": [
    {
     "name": "stderr",
     "output_type": "stream",
     "text": [
      "8699085it [00:08, 999388.01it/s] \n"
     ]
    }
   ],
   "source": [
    "# add author name!\n",
    "f = open(\"../../data/HetGNNdata/Authors.csv\", \"r\", encoding='utf-8')\n",
    "author_name = {}\n",
    "author_CareerAge = {}\n",
    "author_PaperNum = {}\n",
    "author_CitedNum = {}\n",
    "author_mainAffiliation = {}\n",
    "for line in tqdm(f):\n",
    "    line = line.strip().split(',')\n",
    "    if line[0] in authorBreastSet:\n",
    "        # author_name[int(line[0])] = line[4]\n",
    "        # author_CareerAge[int(line[0])] = line[1]\n",
    "        # author_PaperNum[int(line[0])] = line[2]\n",
    "        author_CitedNum[line[0]] = int(line[3])\n",
    "        # author_mainAffiliation[int(line[0])] = str(line[5:]).strip(\n",
    "        #     \"\\\"[\\]'\").replace('\\'', '').replace('\\\"', '').replace('  ', ' ')\n",
    "f.close()\n"
   ]
  },
  {
   "cell_type": "code",
   "execution_count": 22,
   "metadata": {},
   "outputs": [
    {
     "name": "stdout",
     "output_type": "stream",
     "text": [
      "49030\n"
     ]
    }
   ],
   "source": [
    "count = 0\n",
    "for k,v in author_CitedNum.items():\n",
    "    if v > 233:\n",
    "        count += 1\n",
    "# 49030\n",
    "print(count)\n",
    "filter_author_embeddings = {}\n",
    "\n",
    "for k,v in author_CitedNum.items():\n",
    "    if v > 233:\n",
    "        filter_author_embeddings[k] = author_emd[k]"
   ]
  },
  {
   "cell_type": "code",
   "execution_count": 23,
   "metadata": {},
   "outputs": [],
   "source": [
    "author_emd = filter_author_embeddings"
   ]
  },
  {
   "cell_type": "code",
   "execution_count": 24,
   "metadata": {},
   "outputs": [],
   "source": [
    "authorBreastSet = set(author_emd.keys())\n",
    "dataBreastSet = set(dataset_emd.keys())\n",
    "methodBreastSet = set(method_emd.keys())"
   ]
  },
  {
   "cell_type": "code",
   "execution_count": 60,
   "metadata": {},
   "outputs": [
    {
     "data": {
      "text/plain": [
       "307"
      ]
     },
     "execution_count": 60,
     "metadata": {},
     "output_type": "execute_result"
    }
   ],
   "source": [
    "len(methodBreastSet)\n"
   ]
  },
  {
   "cell_type": "code",
   "execution_count": 8,
   "metadata": {},
   "outputs": [
    {
     "name": "stdout",
     "output_type": "stream",
     "text": [
      "Initialization complete\n",
      "Iteration 0, inertia 351671.47109569644\n",
      "Iteration 1, inertia 210612.04257037895\n",
      "Iteration 2, inertia 208302.9483099296\n",
      "Iteration 3, inertia 207147.08064308247\n",
      "Iteration 4, inertia 206736.46323484066\n",
      "Iteration 5, inertia 206640.2972596178\n",
      "Iteration 6, inertia 206590.39311607738\n",
      "Iteration 7, inertia 206563.64728159757\n",
      "Iteration 8, inertia 206549.07461415604\n",
      "Iteration 9, inertia 206540.94829197144\n",
      "Iteration 10, inertia 206535.40249717483\n",
      "Iteration 11, inertia 206531.3862610431\n",
      "Iteration 12, inertia 206528.58335282403\n",
      "Iteration 13, inertia 206527.16642928775\n",
      "Iteration 14, inertia 206526.2883021576\n",
      "Iteration 15, inertia 206525.52336545291\n",
      "Iteration 16, inertia 206524.99912247903\n",
      "Iteration 17, inertia 206524.6232287938\n",
      "Iteration 18, inertia 206524.34229593887\n",
      "Iteration 19, inertia 206524.21580743464\n",
      "Iteration 20, inertia 206524.14249004197\n",
      "Iteration 21, inertia 206524.09186071117\n",
      "Converged at iteration 21: center shift 1.7370653582546325e-06 within tolerance 4.018470774023434e-06.\n",
      "Initialization complete\n",
      "Iteration 0, inertia 343583.2025037523\n",
      "Iteration 1, inertia 215386.26827749124\n",
      "Iteration 2, inertia 210912.266111671\n",
      "Iteration 3, inertia 209365.17921096517\n",
      "Iteration 4, inertia 208672.12009318479\n",
      "Iteration 5, inertia 208501.7063342876\n",
      "Iteration 6, inertia 208448.1531317771\n",
      "Iteration 7, inertia 208425.814972132\n",
      "Iteration 8, inertia 208415.13678819907\n",
      "Iteration 9, inertia 208410.9388232035\n",
      "Iteration 10, inertia 208409.02987443883\n",
      "Iteration 11, inertia 208408.27589820296\n",
      "Iteration 12, inertia 208407.74790316843\n",
      "Iteration 13, inertia 208407.51781104645\n",
      "Iteration 14, inertia 208407.41086664482\n",
      "Iteration 15, inertia 208407.33112239226\n",
      "Iteration 16, inertia 208407.2433439917\n",
      "Converged at iteration 16: center shift 3.661519227043919e-06 within tolerance 4.018470774023434e-06.\n",
      "Initialization complete\n",
      "Iteration 0, inertia 317001.0313954478\n",
      "Iteration 1, inertia 218380.03593738395\n",
      "Iteration 2, inertia 212726.15056635934\n",
      "Iteration 3, inertia 211581.54586248798\n",
      "Iteration 4, inertia 211196.91965294842\n",
      "Iteration 5, inertia 210934.69891279005\n",
      "Iteration 6, inertia 210626.53404575217\n",
      "Iteration 7, inertia 210473.2878495069\n",
      "Iteration 8, inertia 210373.10501939701\n",
      "Iteration 9, inertia 210277.87780738945\n",
      "Iteration 10, inertia 210180.21458137213\n",
      "Iteration 11, inertia 210076.5276805428\n",
      "Iteration 12, inertia 209970.61280346164\n",
      "Iteration 13, inertia 209875.39829249843\n",
      "Iteration 14, inertia 209776.54029951146\n",
      "Iteration 15, inertia 209634.4270326172\n",
      "Iteration 16, inertia 209396.3011866401\n",
      "Iteration 17, inertia 208962.21732700226\n",
      "Iteration 18, inertia 208313.9959166739\n",
      "Iteration 19, inertia 207699.14440728325\n",
      "Iteration 20, inertia 207266.1958691973\n",
      "Iteration 21, inertia 206993.8296195872\n",
      "Iteration 22, inertia 206754.150128186\n",
      "Iteration 23, inertia 206583.81907249722\n",
      "Iteration 24, inertia 206541.36504515944\n",
      "Iteration 25, inertia 206530.9210514358\n",
      "Iteration 26, inertia 206526.70770778737\n",
      "Iteration 27, inertia 206525.56585526268\n",
      "Iteration 28, inertia 206525.02727501697\n",
      "Iteration 29, inertia 206524.61259709168\n",
      "Iteration 30, inertia 206524.43074049268\n",
      "Iteration 31, inertia 206524.32889664793\n",
      "Iteration 32, inertia 206524.24925066857\n",
      "Iteration 33, inertia 206524.16563796875\n",
      "Converged at iteration 33: center shift 3.921415245949936e-06 within tolerance 4.018470774023434e-06.\n",
      "Initialization complete\n",
      "Iteration 0, inertia 338895.03540061065\n",
      "Iteration 1, inertia 219248.1240647544\n",
      "Iteration 2, inertia 211709.34035199333\n",
      "Iteration 3, inertia 209484.96839677973\n",
      "Iteration 4, inertia 208672.03325348574\n",
      "Iteration 5, inertia 208229.06059199444\n",
      "Iteration 6, inertia 207926.492564153\n",
      "Iteration 7, inertia 207613.77786385862\n",
      "Iteration 8, inertia 207435.3727606272\n",
      "Iteration 9, inertia 207387.8293911599\n",
      "Iteration 10, inertia 207361.4547038307\n",
      "Iteration 11, inertia 207334.9741180347\n",
      "Iteration 12, inertia 207304.26798094308\n",
      "Iteration 13, inertia 207263.87972388754\n",
      "Iteration 14, inertia 207203.50074643936\n",
      "Iteration 15, inertia 207109.90968831867\n",
      "Iteration 16, inertia 207001.13445644893\n",
      "Iteration 17, inertia 206925.0146897908\n",
      "Iteration 18, inertia 206868.62709215438\n",
      "Iteration 19, inertia 206821.2961006229\n",
      "Iteration 20, inertia 206762.51357764096\n",
      "Iteration 21, inertia 206629.92434798513\n",
      "Iteration 22, inertia 206585.6771836489\n",
      "Iteration 23, inertia 206560.07350994225\n",
      "Iteration 24, inertia 206543.93032780685\n",
      "Iteration 25, inertia 206535.19886118645\n",
      "Iteration 26, inertia 206530.48814124128\n",
      "Iteration 27, inertia 206527.6285549024\n",
      "Iteration 28, inertia 206525.98507384985\n",
      "Iteration 29, inertia 206524.8548032509\n",
      "Iteration 30, inertia 206524.40933036018\n",
      "Iteration 31, inertia 206524.21187837765\n",
      "Iteration 32, inertia 206524.15393265412\n",
      "Converged at iteration 32: center shift 2.0326258505773243e-06 within tolerance 4.018470774023434e-06.\n",
      "Initialization complete\n",
      "Iteration 0, inertia 331633.5859318116\n",
      "Iteration 1, inertia 220035.59018508057\n",
      "Iteration 2, inertia 214321.96998601808\n",
      "Iteration 3, inertia 212028.9355758519\n",
      "Iteration 4, inertia 211120.38926817747\n",
      "Iteration 5, inertia 210763.36578383163\n",
      "Iteration 6, inertia 210414.39290887624\n",
      "Iteration 7, inertia 209888.75837014735\n",
      "Iteration 8, inertia 209113.50089346743\n",
      "Iteration 9, inertia 208279.40082305708\n",
      "Iteration 10, inertia 207660.34803990336\n",
      "Iteration 11, inertia 207266.61666707764\n",
      "Iteration 12, inertia 206923.54393014958\n",
      "Iteration 13, inertia 206682.41462713003\n",
      "Iteration 14, inertia 206598.84617582025\n",
      "Iteration 15, inertia 206566.48583667423\n",
      "Iteration 16, inertia 206546.8214287067\n",
      "Iteration 17, inertia 206536.67324285314\n",
      "Iteration 18, inertia 206531.1541390828\n",
      "Iteration 19, inertia 206528.11356335037\n",
      "Iteration 20, inertia 206526.32004690362\n",
      "Iteration 21, inertia 206525.0239498646\n",
      "Iteration 22, inertia 206524.46243205733\n",
      "Iteration 23, inertia 206524.23701209034\n",
      "Iteration 24, inertia 206524.1602477773\n",
      "Converged at iteration 24: center shift 2.4587458257809648e-06 within tolerance 4.018470774023434e-06.\n",
      "Initialization complete\n",
      "Iteration 0, inertia 353220.522668845\n",
      "Iteration 1, inertia 218686.80062683116\n",
      "Iteration 2, inertia 213447.53449945457\n",
      "Iteration 3, inertia 210412.24264634048\n",
      "Iteration 4, inertia 209160.03896435897\n",
      "Iteration 5, inertia 208630.7953021435\n",
      "Iteration 6, inertia 208308.22634163348\n",
      "Iteration 7, inertia 208051.27055409038\n",
      "Iteration 8, inertia 207882.0849120125\n",
      "Iteration 9, inertia 207803.99824851082\n",
      "Iteration 10, inertia 207760.10210009787\n",
      "Iteration 11, inertia 207735.3515335197\n",
      "Iteration 12, inertia 207720.72516166983\n",
      "Iteration 13, inertia 207711.71274289992\n",
      "Iteration 14, inertia 207702.87338102373\n",
      "Iteration 15, inertia 207689.70328116848\n",
      "Iteration 16, inertia 207662.70208445974\n",
      "Iteration 17, inertia 207628.9604816042\n",
      "Iteration 18, inertia 207596.40704958627\n",
      "Iteration 19, inertia 207565.80480690624\n",
      "Iteration 20, inertia 207541.03713763595\n",
      "Iteration 21, inertia 207519.39526339612\n",
      "Iteration 22, inertia 207500.7627148535\n",
      "Iteration 23, inertia 207484.50903700382\n",
      "Iteration 24, inertia 207470.54741397974\n",
      "Iteration 25, inertia 207458.62257387416\n",
      "Iteration 26, inertia 207448.97399987196\n",
      "Iteration 27, inertia 207441.43715625722\n",
      "Iteration 28, inertia 207433.47557031526\n",
      "Iteration 29, inertia 207425.00102742456\n",
      "Iteration 30, inertia 207416.87314316712\n",
      "Iteration 31, inertia 207408.82458342935\n",
      "Iteration 32, inertia 207402.41767582233\n",
      "Iteration 33, inertia 207397.85366516738\n",
      "Iteration 34, inertia 207393.7555122639\n",
      "Iteration 35, inertia 207390.27495434013\n",
      "Iteration 36, inertia 207387.15434647276\n",
      "Iteration 37, inertia 207383.76892709915\n",
      "Iteration 38, inertia 207380.94865744526\n",
      "Iteration 39, inertia 207377.7171762074\n",
      "Iteration 40, inertia 207375.0679482012\n",
      "Iteration 41, inertia 207372.70684626544\n",
      "Iteration 42, inertia 207371.20385687446\n",
      "Iteration 43, inertia 207370.35024941273\n",
      "Iteration 44, inertia 207369.76406893323\n",
      "Iteration 45, inertia 207369.25734959083\n",
      "Iteration 46, inertia 207368.89549510996\n",
      "Iteration 47, inertia 207368.6109772475\n",
      "Iteration 48, inertia 207368.41167741473\n",
      "Iteration 49, inertia 207368.2479990077\n",
      "Iteration 50, inertia 207368.10242268405\n",
      "Iteration 51, inertia 207367.98342114876\n",
      "Iteration 52, inertia 207367.73050394186\n",
      "Iteration 53, inertia 207367.2888733954\n",
      "Iteration 54, inertia 207366.76281865418\n",
      "Iteration 55, inertia 207366.19051452665\n",
      "Iteration 56, inertia 207365.37717086638\n",
      "Iteration 57, inertia 207364.51709598515\n",
      "Iteration 58, inertia 207363.86761261005\n",
      "Iteration 59, inertia 207362.71283719243\n",
      "Iteration 60, inertia 207361.4232773985\n",
      "Iteration 61, inertia 207359.74315630537\n",
      "Iteration 62, inertia 207358.08599353154\n",
      "Iteration 63, inertia 207356.7496566823\n",
      "Iteration 64, inertia 207355.87000110128\n",
      "Iteration 65, inertia 207355.20697124797\n",
      "Iteration 66, inertia 207354.54067310848\n",
      "Iteration 67, inertia 207354.0114250204\n",
      "Iteration 68, inertia 207353.44887432508\n",
      "Iteration 69, inertia 207352.85553336446\n",
      "Iteration 70, inertia 207351.87728172858\n",
      "Iteration 71, inertia 207350.8450331513\n",
      "Iteration 72, inertia 207349.53349892353\n",
      "Iteration 73, inertia 207348.0877866236\n",
      "Iteration 74, inertia 207346.32478187207\n",
      "Iteration 75, inertia 207344.8569790885\n",
      "Iteration 76, inertia 207342.37657649635\n",
      "Iteration 77, inertia 207339.13929041784\n",
      "Iteration 78, inertia 207334.99334736489\n",
      "Iteration 79, inertia 207327.00849563064\n",
      "Iteration 80, inertia 207314.40573064508\n",
      "Iteration 81, inertia 207295.55843233847\n",
      "Iteration 82, inertia 207266.7272470274\n",
      "Iteration 83, inertia 207220.47544296022\n",
      "Iteration 84, inertia 207143.73337799305\n",
      "Iteration 85, inertia 207052.58691642684\n",
      "Iteration 86, inertia 206973.5022633185\n",
      "Iteration 87, inertia 206909.07996440475\n",
      "Iteration 88, inertia 206858.23377685138\n",
      "Iteration 89, inertia 206808.29813802996\n",
      "Iteration 90, inertia 206711.3916205409\n",
      "Iteration 91, inertia 206615.405308494\n",
      "Iteration 92, inertia 206578.7981441872\n",
      "Iteration 93, inertia 206555.37806868617\n",
      "Iteration 94, inertia 206541.39341542992\n",
      "Iteration 95, inertia 206533.98158381376\n",
      "Iteration 96, inertia 206529.83730275693\n",
      "Iteration 97, inertia 206527.23526436475\n",
      "Iteration 98, inertia 206525.64364704347\n",
      "Iteration 99, inertia 206524.71485240877\n",
      "Iteration 100, inertia 206524.3415003444\n",
      "Iteration 101, inertia 206524.2028441491\n",
      "Iteration 102, inertia 206524.14950781374\n",
      "Converged at iteration 102: center shift 2.029424209081277e-06 within tolerance 4.018470774023434e-06.\n",
      "Initialization complete\n",
      "Iteration 0, inertia 317366.0509183543\n",
      "Iteration 1, inertia 212196.80309029322\n",
      "Iteration 2, inertia 209816.09192430374\n",
      "Iteration 3, inertia 209184.36245797743\n",
      "Iteration 4, inertia 209008.63568740676\n",
      "Iteration 5, inertia 208938.22287725948\n",
      "Iteration 6, inertia 208893.737034405\n",
      "Iteration 7, inertia 208862.62042054292\n",
      "Iteration 8, inertia 208836.7333939879\n",
      "Iteration 9, inertia 208810.55786672843\n",
      "Iteration 10, inertia 208785.8742219018\n",
      "Iteration 11, inertia 208759.73780059017\n",
      "Iteration 12, inertia 208690.6503185611\n",
      "Iteration 13, inertia 208627.8250367812\n",
      "Iteration 14, inertia 208573.6005124748\n",
      "Iteration 15, inertia 208526.96385183252\n",
      "Iteration 16, inertia 208486.59772323523\n",
      "Iteration 17, inertia 208459.7256290568\n",
      "Iteration 18, inertia 208443.07782069343\n",
      "Iteration 19, inertia 208431.19427689092\n",
      "Iteration 20, inertia 208421.63813664508\n",
      "Iteration 21, inertia 208416.15834529564\n",
      "Iteration 22, inertia 208413.09528263277\n",
      "Iteration 23, inertia 208411.15914451802\n",
      "Iteration 24, inertia 208409.78031603916\n",
      "Iteration 25, inertia 208408.95581808267\n",
      "Iteration 26, inertia 208408.201928276\n",
      "Iteration 27, inertia 208407.6740517013\n",
      "Iteration 28, inertia 208407.4096197948\n",
      "Iteration 29, inertia 208407.29485555665\n",
      "Iteration 30, inertia 208407.24267733173\n",
      "Iteration 31, inertia 208407.1932198833\n",
      "Converged at iteration 31: center shift 2.1294067555311175e-06 within tolerance 4.018470774023434e-06.\n",
      "Initialization complete\n",
      "Iteration 0, inertia 361346.4323569956\n",
      "Iteration 1, inertia 216175.68429744127\n",
      "Iteration 2, inertia 209887.2186469243\n",
      "Iteration 3, inertia 208624.89735861856\n",
      "Iteration 4, inertia 208151.8859560157\n",
      "Iteration 5, inertia 207872.42686740498\n",
      "Iteration 6, inertia 207693.70866864297\n",
      "Iteration 7, inertia 207584.12480282452\n",
      "Iteration 8, inertia 207518.0522900105\n",
      "Iteration 9, inertia 207475.61010318567\n",
      "Iteration 10, inertia 207446.4053490284\n",
      "Iteration 11, inertia 207425.5369070859\n",
      "Iteration 12, inertia 207410.0710868286\n",
      "Iteration 13, inertia 207398.6331793722\n",
      "Iteration 14, inertia 207388.6825755433\n",
      "Iteration 15, inertia 207378.7317579135\n",
      "Iteration 16, inertia 207370.3653044134\n",
      "Iteration 17, inertia 207363.17509478712\n",
      "Iteration 18, inertia 207358.26163689152\n",
      "Iteration 19, inertia 207353.96468744264\n",
      "Iteration 20, inertia 207350.0316092741\n",
      "Iteration 21, inertia 207346.19567878122\n",
      "Iteration 22, inertia 207342.5893663177\n",
      "Iteration 23, inertia 207338.28091287857\n",
      "Iteration 24, inertia 207333.1088043841\n",
      "Iteration 25, inertia 207323.25777248334\n",
      "Iteration 26, inertia 207307.7920331355\n",
      "Iteration 27, inertia 207283.99280024218\n",
      "Iteration 28, inertia 207248.2686285791\n",
      "Iteration 29, inertia 207192.84635149708\n",
      "Iteration 30, inertia 207107.04959607625\n",
      "Iteration 31, inertia 207015.47249644593\n",
      "Iteration 32, inertia 206943.0373021758\n",
      "Iteration 33, inertia 206885.92635287682\n",
      "Iteration 34, inertia 206836.7119116141\n",
      "Iteration 35, inertia 206781.86543867717\n",
      "Iteration 36, inertia 206647.6359232701\n",
      "Iteration 37, inertia 206595.08101251884\n",
      "Iteration 38, inertia 206566.7481204801\n",
      "Iteration 39, inertia 206547.6062045669\n",
      "Iteration 40, inertia 206537.35697940446\n",
      "Iteration 41, inertia 206531.65514311462\n",
      "Iteration 42, inertia 206528.31999430415\n",
      "Iteration 43, inertia 206526.4235476732\n",
      "Iteration 44, inertia 206525.07130180125\n",
      "Iteration 45, inertia 206524.4790976735\n",
      "Iteration 46, inertia 206524.25747227098\n",
      "Iteration 47, inertia 206524.1775655911\n",
      "Converged at iteration 47: center shift 3.3920605293424384e-06 within tolerance 4.018470774023434e-06.\n",
      "Initialization complete\n",
      "Iteration 0, inertia 329049.22264143557\n",
      "Iteration 1, inertia 213252.78631028542\n",
      "Iteration 2, inertia 211332.3698861248\n",
      "Iteration 3, inertia 210856.68129342288\n",
      "Iteration 4, inertia 210643.98301770585\n",
      "Iteration 5, inertia 210534.1504945893\n",
      "Iteration 6, inertia 210454.43544013542\n",
      "Iteration 7, inertia 210384.06696311524\n",
      "Iteration 8, inertia 210311.0977852661\n",
      "Iteration 9, inertia 210233.6207376654\n",
      "Iteration 10, inertia 210151.22045252487\n",
      "Iteration 11, inertia 210073.27397216499\n",
      "Iteration 12, inertia 209981.17851201555\n",
      "Iteration 13, inertia 209868.10667917124\n",
      "Iteration 14, inertia 209734.13765950754\n",
      "Iteration 15, inertia 209567.7929472114\n",
      "Iteration 16, inertia 209397.94259928397\n",
      "Iteration 17, inertia 209270.72421595085\n",
      "Iteration 18, inertia 209208.69182766846\n",
      "Iteration 19, inertia 209157.2108278944\n",
      "Iteration 20, inertia 209129.77163838726\n",
      "Iteration 21, inertia 209113.87197007373\n",
      "Iteration 22, inertia 209100.4764062787\n",
      "Iteration 23, inertia 209090.3378679762\n",
      "Iteration 24, inertia 209082.75734728322\n",
      "Iteration 25, inertia 209077.598296874\n",
      "Iteration 26, inertia 209073.8104259444\n",
      "Iteration 27, inertia 209071.54323950707\n",
      "Iteration 28, inertia 209070.4218696791\n",
      "Iteration 29, inertia 209069.34007016654\n",
      "Iteration 30, inertia 209068.35819376798\n",
      "Iteration 31, inertia 209067.82112544306\n",
      "Iteration 32, inertia 209067.36600556102\n",
      "Iteration 33, inertia 209067.0211208041\n",
      "Iteration 34, inertia 209066.82728175953\n",
      "Iteration 35, inertia 209066.69931016647\n",
      "Iteration 36, inertia 209066.56778458966\n",
      "Iteration 37, inertia 209066.42577516803\n",
      "Iteration 38, inertia 209066.2872627423\n",
      "Iteration 39, inertia 209066.1785092813\n",
      "Iteration 40, inertia 209066.07236401655\n",
      "Iteration 41, inertia 209065.9436218328\n",
      "Iteration 42, inertia 209065.84491174045\n",
      "Iteration 43, inertia 209065.7426351806\n",
      "Converged at iteration 43: center shift 2.295567887697002e-06 within tolerance 4.018470774023434e-06.\n",
      "Initialization complete\n",
      "Iteration 0, inertia 350848.7462614476\n",
      "Iteration 1, inertia 216968.77634516326\n",
      "Iteration 2, inertia 210708.65477189425\n",
      "Iteration 3, inertia 209796.52605644567\n",
      "Iteration 4, inertia 209491.049899397\n",
      "Iteration 5, inertia 209120.24165692722\n",
      "Iteration 6, inertia 208843.94737903395\n",
      "Iteration 7, inertia 208762.02461631098\n",
      "Iteration 8, inertia 208698.72581055362\n",
      "Iteration 9, inertia 208613.86967008765\n",
      "Iteration 10, inertia 208559.90412200434\n",
      "Iteration 11, inertia 208515.95287461253\n",
      "Iteration 12, inertia 208479.3380494002\n",
      "Iteration 13, inertia 208455.87738737205\n",
      "Iteration 14, inertia 208439.97302753717\n",
      "Iteration 15, inertia 208428.83604510524\n",
      "Iteration 16, inertia 208419.83808948472\n",
      "Iteration 17, inertia 208415.06202380257\n",
      "Iteration 18, inertia 208412.53761133435\n",
      "Iteration 19, inertia 208410.7782245892\n",
      "Iteration 20, inertia 208409.49506161298\n",
      "Iteration 21, inertia 208408.65873937777\n",
      "Iteration 22, inertia 208407.9779520742\n",
      "Iteration 23, inertia 208407.584094657\n",
      "Iteration 24, inertia 208407.38199350826\n",
      "Iteration 25, inertia 208407.28113651817\n",
      "Iteration 26, inertia 208407.23555662314\n",
      "Iteration 27, inertia 208407.18970192166\n",
      "Converged at iteration 27: center shift 1.5367407899933887e-06 within tolerance 4.018470774023434e-06.\n",
      "kmeans over\n"
     ]
    }
   ],
   "source": [
    "# combine them\n",
    "dataset_author_method_keys = list(\n",
    "    dataset_emd.keys()) + list(author_emd.keys()) + list(method_emd.keys())\n",
    "dataset_author_method_list = list(dataset_emd.values(\n",
    ")) + list(author_emd.values()) + list(method_emd.values())\n",
    "dataset_author_method_array = np.array(dataset_author_method_list)\n",
    "authorBreastSet = set(author_emd.keys())\n",
    "dataBreastSet = set(dataset_emd.keys())\n",
    "methodBreastSet = set(method_emd.keys())\n",
    "# kmeans\n",
    "dataset_author_method_Kmeans = KMeans(\n",
    "    n_clusters=5, random_state=0,verbose=1).fit(dataset_author_method_array)\n",
    "print('kmeans over')\n",
    "\n",
    "clusters = dataset_author_method_Kmeans.predict(dataset_author_method_array)\n",
    "\n",
    "dataset_author_method_kmeans_label = {}\n",
    "for i in range(len(dataset_author_method_keys)):\n",
    "    dataset_author_method_kmeans_label[dataset_author_method_keys[i]] = clusters[i]\n",
    "\n",
    "dataset_cluster = {}\n",
    "author_cluster = {}\n",
    "method_cluster = {}\n",
    "for i in dataset_emd.keys():\n",
    "    dataset_cluster[i] = dataset_author_method_kmeans_label[i]\n",
    "for i in author_emd.keys():\n",
    "    author_cluster[int(i)] = dataset_author_method_kmeans_label[i]\n",
    "for i in method_emd.keys():\n",
    "    method_cluster[i] = dataset_author_method_kmeans_label[i]"
   ]
  },
  {
   "cell_type": "code",
   "execution_count": 9,
   "metadata": {},
   "outputs": [],
   "source": [
    "df_author = pd.DataFrame(pd.Series(author_cluster),columns=['clusterID'])"
   ]
  },
  {
   "cell_type": "code",
   "execution_count": 11,
   "metadata": {},
   "outputs": [],
   "source": [
    "# df_author.to_csv('../../data/HetGNNdata/authors4atlas.csv', encoding='utf-8')"
   ]
  },
  {
   "cell_type": "code",
   "execution_count": 9,
   "metadata": {},
   "outputs": [],
   "source": [
    "# 需要：author基于bioentity的类别标签。\n",
    "'''\n",
    "Scientists Cluster 0 - Biomarker Discovery\n",
    "Scientists Cluster 1 - Targeted Therapy\n",
    "Scientists Cluster 2 - Risk Factors\n",
    "Scientists Cluster 3 - Genetic Variants\n",
    "Scientists Cluster 4 - Diagnosis and Treatment\n",
    "'''\n",
    "cluster2label = {\n",
    "    0:'Scientists Cluster 0 - Biomarker Discovery',\n",
    "    1: 'Scientists Cluster 1 - Targeted Therapy',\n",
    "    2: 'Scientists Cluster 2 - Risk Factors',\n",
    "    3:  'Scientists Cluster 3 - Genetic Variants',\n",
    "    4: 'Scientists Cluster 4 - Diagnosis and Treatment'\n",
    "}"
   ]
  },
  {
   "cell_type": "code",
   "execution_count": 17,
   "metadata": {},
   "outputs": [
    {
     "name": "stderr",
     "output_type": "stream",
     "text": [
      "470584it [00:00, 908811.96it/s]\n"
     ]
    },
    {
     "data": {
      "text/plain": [
       "27"
      ]
     },
     "execution_count": 17,
     "metadata": {},
     "output_type": "execute_result"
    }
   ],
   "source": [
    "# add author B2AI!\n",
    "f = open(\"../../data/HetGNNdata/B2AiAuthors.csv\", \"r\", encoding = 'utf-8' )\n",
    "author_B2AI = {}\n",
    "\n",
    "for line in tqdm(f):\n",
    "    line = line.strip().split(',')\n",
    "    if line[0] in authorBreastSet and line[1] != '':\n",
    "        author_B2AI[int(line[0])] = 1\n",
    "f.close()\n",
    "len(author_B2AI)"
   ]
  },
  {
   "cell_type": "code",
   "execution_count": 18,
   "metadata": {},
   "outputs": [
    {
     "name": "stderr",
     "output_type": "stream",
     "text": [
      "8448it [00:00, 1207973.28it/s]\n"
     ]
    },
    {
     "data": {
      "text/plain": [
       "244"
      ]
     },
     "execution_count": 18,
     "metadata": {},
     "output_type": "execute_result"
    }
   ],
   "source": [
    "# add dataset name!\n",
    "f = open(\"../../data/Dateset_Extraction_20230411.csv\", \"r\")\n",
    "datasetIDName = {}\n",
    "for line in tqdm(f):\n",
    "    line = line.strip().split(',')\n",
    "    if line[3] in dataset_cluster:\n",
    "        datasetIDName[line[3]] = line[2]\n",
    "f.close()\n",
    "len(datasetIDName)\n"
   ]
  },
  {
   "cell_type": "code",
   "execution_count": 19,
   "metadata": {},
   "outputs": [
    {
     "name": "stderr",
     "output_type": "stream",
     "text": [
      "64048it [00:00, 1173645.02it/s]\n"
     ]
    }
   ],
   "source": [
    "# add obi name!\n",
    "f = open(\"../../data/OBI_Extraction.csv\", \"r\")\n",
    "obiIDName = {}\n",
    "for line in tqdm(f):\n",
    "    line = line.strip().split(',')\n",
    "    if line[3] in method_cluster:\n",
    "        obiIDName[line[3]] = line[2]\n",
    "f.close()"
   ]
  },
  {
   "cell_type": "code",
   "execution_count": 40,
   "metadata": {},
   "outputs": [
    {
     "name": "stderr",
     "output_type": "stream",
     "text": [
      "8699085it [00:16, 512753.98it/s]\n"
     ]
    },
    {
     "data": {
      "text/plain": [
       "49046"
      ]
     },
     "execution_count": 40,
     "metadata": {},
     "output_type": "execute_result"
    }
   ],
   "source": [
    "# add author name!\n",
    "f = open(\"../../data/HetGNNdata/Authors.csv\", \"r\", encoding='utf-8')\n",
    "author_name = {}\n",
    "author_CareerAge = {}\n",
    "author_PaperNum = {}\n",
    "author_CitedNum = {}\n",
    "author_mainAffiliation = {}\n",
    "for line in tqdm(f):\n",
    "    line = line.strip().split(',')\n",
    "    try:\n",
    "        int(line[0])\n",
    "    except:\n",
    "        continue\n",
    "    if int(line[0]) in author2ebd4atlas50000:\n",
    "        author_name[int(line[0])] = line[4]\n",
    "        # author_CareerAge[int(line[0])] = line[1]\n",
    "        # author_PaperNum[int(line[0])] = line[2]\n",
    "        # author_CitedNum[int(line[0])] = int(line[3])\n",
    "        # author_mainAffiliation[int(line[0])] = str(line[5:]).strip(\n",
    "        #     \"\\\"[\\]'\").replace('\\'', '').replace('\\\"', '').replace('  ', ' ')\n",
    "f.close()\n",
    "len(author_name)"
   ]
  },
  {
   "cell_type": "code",
   "execution_count": 41,
   "metadata": {},
   "outputs": [
    {
     "data": {
      "text/plain": [
       "49046"
      ]
     },
     "execution_count": 41,
     "metadata": {},
     "output_type": "execute_result"
    }
   ],
   "source": [
    "len(author2ebd4atlas50000)\n"
   ]
  },
  {
   "cell_type": "code",
   "execution_count": null,
   "metadata": {},
   "outputs": [],
   "source": [
    "author_name"
   ]
  },
  {
   "cell_type": "code",
   "execution_count": null,
   "metadata": {},
   "outputs": [],
   "source": [
    "author_B2AI"
   ]
  },
  {
   "cell_type": "code",
   "execution_count": 25,
   "metadata": {},
   "outputs": [
    {
     "data": {
      "text/plain": [
       "49046"
      ]
     },
     "execution_count": 25,
     "metadata": {},
     "output_type": "execute_result"
    }
   ],
   "source": [
    "authorPlus2AI_index =list(set(list(map(int,author_emd.keys()))+list(author_B2AI.keys())))\n",
    "len(authorPlus2AI_index)\n"
   ]
  },
  {
   "cell_type": "code",
   "execution_count": 26,
   "metadata": {},
   "outputs": [],
   "source": [
    "author2label = {}"
   ]
  },
  {
   "cell_type": "code",
   "execution_count": 27,
   "metadata": {},
   "outputs": [],
   "source": [
    "for author in authorPlus2AI_index:\n",
    "    if author in author_B2AI:\n",
    "        author2label[author]= 'Bridge2AI Talents'\n",
    "    else:\n",
    "        author2label[author]= cluster2label[author_cluster[author]]"
   ]
  },
  {
   "cell_type": "code",
   "execution_count": 29,
   "metadata": {},
   "outputs": [],
   "source": [
    "author2ebd4atlas50000 = {}\n",
    "for k,v in author_emd.items():\n",
    "    if int(k) in author2label:\n",
    "        author2ebd4atlas50000[int(k)] = v"
   ]
  },
  {
   "cell_type": "code",
   "execution_count": 31,
   "metadata": {},
   "outputs": [
    {
     "data": {
      "text/plain": [
       "49046"
      ]
     },
     "execution_count": 31,
     "metadata": {},
     "output_type": "execute_result"
    }
   ],
   "source": [
    "len(author2ebd4atlas50000)"
   ]
  },
  {
   "cell_type": "code",
   "execution_count": 30,
   "metadata": {},
   "outputs": [
    {
     "data": {
      "text/plain": [
       "49046"
      ]
     },
     "execution_count": 30,
     "metadata": {},
     "output_type": "execute_result"
    }
   ],
   "source": [
    "len(authorPlus2AI_index)\n"
   ]
  },
  {
   "cell_type": "code",
   "execution_count": 43,
   "metadata": {},
   "outputs": [],
   "source": [
    "myEmbeddings = list(author2ebd4atlas50000.values()) + list(method_emd.values()) + list(dataset_emd.values())\n",
    "myEmbeddings=np.array(myEmbeddings)"
   ]
  },
  {
   "cell_type": "code",
   "execution_count": 44,
   "metadata": {},
   "outputs": [],
   "source": [
    "obiIDName['OBI:0000829'] = 'Sysmex Corporation'"
   ]
  },
  {
   "cell_type": "code",
   "execution_count": 21,
   "metadata": {},
   "outputs": [
    {
     "name": "stderr",
     "output_type": "stream",
     "text": [
      "100%|██████████| 524117/524117 [00:03<00:00, 141861.75it/s]\n"
     ]
    }
   ],
   "source": [
    "import pandas as pd\n",
    "import pickle as pk\n",
    "article_title = pd.read_csv(\n",
    "    '../../data/breast_cancaer_papers_PKG23.csv')\n",
    "paper_titleAbstract = {}\n",
    "article_title['TitleAbstract'] = article_title['ArticleTitle'] + \\\n",
    "    article_title['Abstract']\n",
    "article_title.dropna(subset=['TitleAbstract'], inplace=True)\n",
    "# article_title['TitleAbstract'] = article_title['TitleAbstract'].apply(clean_text)\n",
    "for index, row in article_title.iterrows():\n",
    "    paper_titleAbstract[str(row['PMID'])] = row['TitleAbstract']\n",
    "\n",
    "author_paper = pk.load(\n",
    "    open('../../data/HetGNNdata/author_paper.pkl', 'rb'))\n",
    "\n",
    "authors_text = {}\n",
    "for k in author2label.keys():\n",
    "    authors_text[k] = ''\n",
    "for k, v in tqdm(author_paper.items()):\n",
    "    # 构建词组\n",
    "    if int(k) in author2label:\n",
    "            # 对应的paper集合\n",
    "        paper_set = v\n",
    "        for paper in paper_set:\n",
    "            try:\n",
    "                authors_text[int(k)] += ' '+paper_titleAbstract[paper]\n",
    "            except:\n",
    "                continue"
   ]
  },
  {
   "cell_type": "code",
   "execution_count": 45,
   "metadata": {},
   "outputs": [],
   "source": [
    "data = [{'Category': author2label[k], 'Name': ('AID: '+str(k)+'\\n'+'Name: '+author_name[k])[0:36]}\n",
    "        for k in author2ebd4atlas50000.keys() ] + [{'Category': 'Methods', 'Name': (k+obiIDName[k])[0:36]}\n",
    "        for k in method_cluster.keys() ] + [{'Category': 'Datasets', 'Name': (k+datasetIDName[k])[0:36]}\n",
    "        for k in dataset_cluster.keys() ]"
   ]
  },
  {
   "cell_type": "code",
   "execution_count": 48,
   "metadata": {},
   "outputs": [
    {
     "data": {
      "text/plain": [
       "49597"
      ]
     },
     "execution_count": 48,
     "metadata": {},
     "output_type": "execute_result"
    }
   ],
   "source": [
    "len(data)"
   ]
  },
  {
   "cell_type": "code",
   "execution_count": 77,
   "metadata": {},
   "outputs": [
    {
     "data": {
      "text/plain": [
       "11"
      ]
     },
     "execution_count": 77,
     "metadata": {},
     "output_type": "execute_result"
    }
   ],
   "source": [
    "len(author_name)"
   ]
  },
  {
   "cell_type": "code",
   "execution_count": 92,
   "metadata": {},
   "outputs": [
    {
     "data": {
      "text/plain": [
       "562"
      ]
     },
     "execution_count": 92,
     "metadata": {},
     "output_type": "execute_result"
    }
   ],
   "source": [
    "len(myEmbeddings)\n"
   ]
  },
  {
   "cell_type": "code",
   "execution_count": 49,
   "metadata": {},
   "outputs": [],
   "source": [
    "pk.dump(myEmbeddings, open(\n",
    "    '../../data/HetGNNdata/myEmbeddings4atlas.pkl', 'wb'))\n",
    "pk.dump(data, open(\n",
    "    '../../data/HetGNNdata/data4atlas.pkl', 'wb'))\n"
   ]
  },
  {
   "cell_type": "code",
   "execution_count": 51,
   "metadata": {},
   "outputs": [
    {
     "name": "stderr",
     "output_type": "stream",
     "text": [
      "\u001b[32m2023-04-24 05:14:33.008\u001b[0m | \u001b[1mINFO    \u001b[0m | \u001b[36mnomic.project\u001b[0m:\u001b[36m_create_project\u001b[0m:\u001b[36m965\u001b[0m - \u001b[1mCreating project `tacky-sight` in organization `vinowei21`\u001b[0m\n",
      "\u001b[32m2023-04-24 05:14:35.733\u001b[0m | \u001b[1mINFO    \u001b[0m | \u001b[36mnomic.atlas\u001b[0m:\u001b[36mmap_embeddings\u001b[0m:\u001b[36m100\u001b[0m - \u001b[1mUploading embeddings to Atlas.\u001b[0m\n",
      "10it [00:30,  3.06s/it]\n",
      "\u001b[32m2023-04-24 05:15:06.397\u001b[0m | \u001b[1mINFO    \u001b[0m | \u001b[36mnomic.project\u001b[0m:\u001b[36m_add_data\u001b[0m:\u001b[36m1577\u001b[0m - \u001b[1mUpload succeeded.\u001b[0m\n",
      "\u001b[32m2023-04-24 05:15:06.398\u001b[0m | \u001b[1mINFO    \u001b[0m | \u001b[36mnomic.atlas\u001b[0m:\u001b[36mmap_embeddings\u001b[0m:\u001b[36m119\u001b[0m - \u001b[1mEmbedding upload succeeded.\u001b[0m\n",
      "\u001b[32m2023-04-24 05:15:10.686\u001b[0m | \u001b[1mINFO    \u001b[0m | \u001b[36mnomic.project\u001b[0m:\u001b[36mcreate_index\u001b[0m:\u001b[36m1282\u001b[0m - \u001b[1mCreated map `tacky-sight` in project `tacky-sight`: https://atlas.nomic.ai/map/d8e42abe-7fed-4064-8233-03e3bc26336f/85c658b3-c540-4ec7-8885-af141322e4c9\u001b[0m\n",
      "\u001b[32m2023-04-24 05:15:10.687\u001b[0m | \u001b[1mINFO    \u001b[0m | \u001b[36mnomic.atlas\u001b[0m:\u001b[36mmap_embeddings\u001b[0m:\u001b[36m132\u001b[0m - \u001b[1mtacky-sight: https://atlas.nomic.ai/map/d8e42abe-7fed-4064-8233-03e3bc26336f/85c658b3-c540-4ec7-8885-af141322e4c9\u001b[0m\n"
     ]
    }
   ],
   "source": [
    "from nomic import atlas\n",
    "\n",
    "import nomic\n",
    "nomic.login('Ot6iTWIge-5zC-si1QLxHFcRtnCT2a2ZS9FmsWz7U4EhH')\n",
    "import numpy as np\n",
    "# num_embeddings = 60000\n",
    "# embeddings = np.random.rand(num_embeddings, 128)\n",
    "\n",
    "# categories = ['rhizome', 'cartography', 'lindenstrauss']\n",
    "# data = [{'category': categories[i % len(categories)], 'id': i}\n",
    "#         for i in range(len(embeddings))]\n",
    "\n",
    "project = atlas.map_embeddings(embeddings=myEmbeddings,\n",
    "                               data=data,\n",
    "                               id_field='Name',\n",
    "                               colorable_fields=['Category'],\n",
    "                            #    topic_label_field='Label'\n",
    "                               )"
   ]
  },
  {
   "cell_type": "code",
   "execution_count": 44,
   "metadata": {},
   "outputs": [
    {
     "data": {
      "text/plain": [
       "49581"
      ]
     },
     "execution_count": 44,
     "metadata": {},
     "output_type": "execute_result"
    }
   ],
   "source": [
    "len(data)"
   ]
  }
 ],
 "metadata": {
  "kernelspec": {
   "display_name": "base",
   "language": "python",
   "name": "python3"
  },
  "language_info": {
   "codemirror_mode": {
    "name": "ipython",
    "version": 3
   },
   "file_extension": ".py",
   "mimetype": "text/x-python",
   "name": "python",
   "nbconvert_exporter": "python",
   "pygments_lexer": "ipython3",
   "version": "3.9.13"
  },
  "orig_nbformat": 4
 },
 "nbformat": 4,
 "nbformat_minor": 2
}
