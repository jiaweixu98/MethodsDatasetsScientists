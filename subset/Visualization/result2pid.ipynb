{
 "cells": [
  {
   "cell_type": "code",
   "execution_count": 2,
   "metadata": {},
   "outputs": [
    {
     "name": "stderr",
     "output_type": "stream",
     "text": [
      "72428it [00:02, 29993.55it/s]\n"
     ]
    }
   ],
   "source": [
    "import pickle as pk\n",
    "from tqdm import tqdm\n",
    "Pcount_trans_PID = pk.load(open('Pcount_trans_PID.pkl', 'rb'))\n",
    "Acount_trans_AID = pk.load(open('Acount_trans_AID.pkl', 'rb'))\n",
    "Bcount_trans_BID = pk.load(open('Bcount_trans_BID.pkl', 'rb'))\n",
    "Dcount_trans_DID = pk.load(open('Dcount_trans_DID.pkl', 'rb'))\n",
    "f = open(\"../data/99_node_embedding_datasetTrdTrain.txt\", \"r\")\n",
    "fa = open(\"../data/0404author_node_embedding.txt\", \"w\")\n",
    "fp = open(\"../data/0404paper_node_embedding.txt\", \"w\")\n",
    "fb = open(\"../data/0404entity_node_embedding.txt\", \"w\")\n",
    "fd = open(\"../data/0404dataset_node_embedding.txt\", \"w\")\n",
    "for line in tqdm(f):\n",
    "    line = line.strip().split(' ')\n",
    "    if line[0][0] == 'a':\n",
    "        fa.write(Acount_trans_AID[int(line[0][1:])])\n",
    "        for i in line[1:]:\n",
    "            fa.write(' '+i)\n",
    "        fa.write('\\n')\n",
    "        continue\n",
    "    if line[0][0] == 'v':\n",
    "        fb.write(Bcount_trans_BID[int(line[0][1:])])\n",
    "        for i in line[1:]:\n",
    "            fb.write(' '+i)\n",
    "        fb.write('\\n')\n",
    "        continue\n",
    "    if line[0][0] == 'p':\n",
    "        fp.write(Pcount_trans_PID[int(line[0][1:])])\n",
    "        for i in line[1:]:\n",
    "            fp.write(' '+i)\n",
    "        fp.write('\\n')\n",
    "    if line[0][0] == 'd':\n",
    "        fd.write(Dcount_trans_DID[int(line[0][1:])])\n",
    "        for i in line[1:]:\n",
    "            fd.write(' '+i)\n",
    "        fd.write('\\n')\n",
    "f.close()\n",
    "fa.close()\n",
    "fp.close()\n",
    "fb.close()\n",
    "fd.close()"
   ]
  }
 ],
 "metadata": {
  "kernelspec": {
   "display_name": "base",
   "language": "python",
   "name": "python3"
  },
  "language_info": {
   "codemirror_mode": {
    "name": "ipython",
    "version": 3
   },
   "file_extension": ".py",
   "mimetype": "text/x-python",
   "name": "python",
   "nbconvert_exporter": "python",
   "pygments_lexer": "ipython3",
   "version": "3.9.13"
  },
  "orig_nbformat": 4
 },
 "nbformat": 4,
 "nbformat_minor": 2
}
