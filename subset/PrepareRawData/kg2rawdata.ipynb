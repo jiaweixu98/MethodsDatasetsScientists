{
 "cells": [
  {
   "cell_type": "code",
   "execution_count": 38,
   "metadata": {},
   "outputs": [],
   "source": [
    "import operator\n",
    "from tqdm import tqdm\n",
    "import pickle as pk"
   ]
  },
  {
   "cell_type": "code",
   "execution_count": 39,
   "metadata": {},
   "outputs": [],
   "source": [
    "f = open(\"../data/paper_author.csv\", \"r\")\n",
    "paper_author = {}\n",
    "author_paper = {}\n",
    "for line in f:\n",
    "    line = line.strip().split(',')\n",
    "    if line[0] == 'PMID':\n",
    "        continue\n",
    "    elif line[0] in paper_author:\n",
    "        paper_author[line[0]].append(line[3])\n",
    "    else:\n",
    "        paper_author[line[0]] = [line[3]]\n",
    "    if line[3] in author_paper:\n",
    "        author_paper[line[3]].append(line[0])\n",
    "    else:\n",
    "        author_paper[line[3]] = [line[0]]\n",
    "f.close()"
   ]
  },
  {
   "cell_type": "code",
   "execution_count": 40,
   "metadata": {},
   "outputs": [],
   "source": [
    "f = open(\"../data/paper_bioentity.csv\", \"r\")\n",
    "paper_bioentity = {}\n",
    "bioentity_paper = {}\n",
    "for line in f:\n",
    "    line = line.strip().split(',')\n",
    "    if line[0] == 'PMID':\n",
    "        continue\n",
    "    elif line[0] in paper_bioentity:\n",
    "        paper_bioentity[line[0]].append(line[1])\n",
    "    else:\n",
    "        paper_bioentity[line[0]] = [line[1]]\n",
    "    if line[1] in bioentity_paper:\n",
    "        bioentity_paper[line[1]].append(line[0])\n",
    "    else:\n",
    "        bioentity_paper[line[1]] = [line[0]]\n",
    "f.close()\n"
   ]
  },
  {
   "cell_type": "code",
   "execution_count": 1,
   "metadata": {},
   "outputs": [
    {
     "name": "stdout",
     "output_type": "stream",
     "text": [
      "242\n"
     ]
    }
   ],
   "source": [
    "# 我删掉了title 和 abstract, 因为这真的很烦人（有换行符）。\n",
    "# article_datasets_breast_cancer_20230331里面，每一行对应多个数据，pmid没有重复的，所以处理方法和上边有不同\n",
    "# 共7000多篇文章用了data set，\n",
    "f = open(\"../data/article_datasets_breast_cancer_20230331.csv\", \"r\")\n",
    "paper_dataset = {}\n",
    "dataset_paper = {}\n",
    "for line in f:\n",
    "    line = line.strip().split(',')\n",
    "    if line[0] == 'PMID':\n",
    "        continue\n",
    "    paper_dataset[line[0]] = line[1].split('; ')\n",
    "    for dataset in line[1].split('; '):\n",
    "        if dataset in dataset_paper:\n",
    "            dataset_paper[dataset].append(line[0])\n",
    "        else:\n",
    "            dataset_paper[dataset] = [line[0]]\n",
    "f.close()\n",
    "print(len(dataset_paper))\n"
   ]
  },
  {
   "cell_type": "code",
   "execution_count": 17,
   "metadata": {},
   "outputs": [],
   "source": [
    "Dbid_dbname ={}\n",
    "f = open(\"../data/article_datasets_breast_cancer_20230331.csv\", \"r\")\n",
    "Dbid_dbname = {}\n",
    "for line in f:\n",
    "    line = line.strip().split(',')\n",
    "    if line[0] == 'PMID':\n",
    "        continue\n",
    "    dbidlist = line[1].split('; ')\n",
    "    dbnamelist = line[2].split('; ')\n",
    "    for i in range(len(dbidlist)):\n",
    "        if dbidlist[i] not in Dbid_dbname:\n",
    "            Dbid_dbname[dbidlist[i]] = set()\n",
    "            Dbid_dbname[dbidlist[i]].add(dbnamelist[i])\n",
    "        else:\n",
    "            Dbid_dbname[dbidlist[i]].add(dbnamelist[i])\n",
    "f.close()\n",
    "# print(len(Dbid_dbname))\n",
    "# print(Dbid_dbname)\n",
    "fdatasetname = open(\"../data/datasetIDName.txt\", \"w\")\n",
    "for k,v in Dbid_dbname.items():\n",
    "    fdatasetname.write(k+','+v.pop()+'\\n')\n",
    "fdatasetname.close()"
   ]
  },
  {
   "cell_type": "code",
   "execution_count": 49,
   "metadata": {},
   "outputs": [],
   "source": [
    "pmid_list_with_datasetBioAuthors = list(paper_dataset.keys() & paper_bioentity.keys() & paper_author.keys())"
   ]
  },
  {
   "cell_type": "code",
   "execution_count": null,
   "metadata": {},
   "outputs": [],
   "source": [
    "# pk.dump(pmid_list_with_datasetBioAuthors,open('pmid_list_with_datasetBioAuthors.pkl','wb'))\n",
    "pmid_list_with_datasetBioAuthors\n"
   ]
  }
 ],
 "metadata": {
  "kernelspec": {
   "display_name": "base",
   "language": "python",
   "name": "python3"
  },
  "language_info": {
   "codemirror_mode": {
    "name": "ipython",
    "version": 3
   },
   "file_extension": ".py",
   "mimetype": "text/x-python",
   "name": "python",
   "nbconvert_exporter": "python",
   "pygments_lexer": "ipython3",
   "version": "3.9.13"
  },
  "orig_nbformat": 4
 },
 "nbformat": 4,
 "nbformat_minor": 2
}
